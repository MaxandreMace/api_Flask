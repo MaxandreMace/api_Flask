{
 "cells": [
  {
   "cell_type": "code",
   "execution_count": null,
   "metadata": {},
   "outputs": [],
   "source": [
    "from flask import Flask,jsonify,request\n",
    "import random\n",
    "import json\n",
    "import requests\n",
    "from flask import Flask, send_file\n",
    "from PIL import Image\n",
    "import requests\n",
    "from io import BytesIO\n",
    "app = Flask(__name__)"
   ]
  },
  {
   "cell_type": "code",
   "execution_count": null,
   "metadata": {},
   "outputs": [],
   "source": [
    "\n",
    "@app.route(\"/\")\n",
    "def hello_world():\n",
    "    return \"Hello, World!\"\n"
   ]
  },
  {
   "cell_type": "code",
   "execution_count": null,
   "metadata": {},
   "outputs": [],
   "source": [
    "# retourne une valeur entière aleatoire comprise entre 0 et 100\n",
    "\n",
    "@app.route(\"/val\",methods = ['POST','GET'])\n",
    "def val():\n",
    "    random_val = random.randint(1,100)\n",
    "    return \"le chiffre est : \" + str(random_val)\n"
   ]
  },
  {
   "cell_type": "code",
   "execution_count": null,
   "metadata": {},
   "outputs": [],
   "source": [
    "# code json contenant un tableau de n valeurs entières aléatoires comprises en -1000 et +1000\n",
    "@app.route(\"/val/nb\")\n",
    "def val_nb () :\n",
    "    n =5\n",
    "    tableau = [random.randint(-1000,1000)for i in range(n)]\n",
    "    data ={\"tableau\" : tableau}\n",
    "    json_data = json.dumps(data)\n",
    "    return jsonify(json_data)\n",
    "\n"
   ]
  },
  {
   "cell_type": "code",
   "execution_count": null,
   "metadata": {},
   "outputs": [],
   "source": [
    "\n",
    "\n",
    "\n",
    "@app.route('/calc/add')\n",
    "def addition():\n",
    "    n1 = request.args.get('n1', type=int)\n",
    "    n2 = request.args.get('n2', type=int)\n",
    "    # if n1 is None or n2 is None:\n",
    "    #     return \"Les paramètres 'n1' et 'n2' sont requis.\"\n",
    "    resultat = n1 + n2\n",
    "    return f\"Le résultat de l'addition de {n1} et {n2} est : {resultat}\"\n",
    "\n",
    "\n",
    "\n",
    "    \n",
    "#http://127.0.0.1:5000/calc/add?n1=22&n2=15    \n"
   ]
  },
  {
   "cell_type": "code",
   "execution_count": null,
   "metadata": {},
   "outputs": [],
   "source": [
    "\n",
    "\n",
    "\n",
    "@app.route('/calc/prod')\n",
    "def multiplication():\n",
    "    n1 = request.args.get('n1', type=int)\n",
    "    n2 = request.args.get('n2', type=int)\n",
    "    # if n1 is None or n2 is None:\n",
    "    #     return \"Les paramètres 'n1' et 'n2' sont requis.\"\n",
    "    resultat = n1 * n2\n",
    "    return f\"Le résultat de la multiplication  de {n1} et {n2} est : {resultat}\"\n",
    "\n",
    "\n",
    "#http://127.0.0.1:5000/calc/prod?n1=4&n2=5    \n"
   ]
  },
  {
   "cell_type": "code",
   "execution_count": null,
   "metadata": {},
   "outputs": [],
   "source": [
    "\n",
    "@app.route('/img')\n",
    "def get_image():\n",
    "    num = int(request.args.get('num'))\n",
    "    if num < 1 or num > 9:\n",
    "        return \"Numéro d'image invalide\"\n",
    "    else:\n",
    "        url = f\"https://www.juleshaag.fr/devIA/devAPI/{num}.png\"\n",
    "        response = requests.get(url)\n",
    "        img = Image.open(BytesIO(response.content))\n",
    "        img_io = BytesIO()\n",
    "        img.save(img_io, 'PNG')\n",
    "        img_io.seek(0)\n",
    "        return send_file(img_io, mimetype='image/png')\n",
    "\n",
    "\n",
    "#http://127.0.0.1:5000/img?num=3    \n"
   ]
  },
  {
   "attachments": {},
   "cell_type": "markdown",
   "metadata": {},
   "source": [
    "afficher id "
   ]
  },
  {
   "cell_type": "code",
   "execution_count": null,
   "metadata": {},
   "outputs": [],
   "source": [
    "from flask import Flask, jsonify\n",
    "import requests\n",
    "\n",
    "# Chargement des informations des stations de vélo en libre-service\n",
    "url = \"https://www.juleshaag.fr/devIA/devAPI/station_information.json\"\n",
    "response = requests.get(url)\n",
    "station_data = response.json()[\"data\"][\"stations\"]\n",
    "\n",
    "@app.route('/stations_velo')\n",
    "def get_station_info():\n",
    "    station_id = request.args.get('id')\n",
    "    station_info = next((station for station in station_data if station['station_id'] == station_id), None)\n",
    "    if station_info:\n",
    "        return jsonify(station_info)\n",
    "    else:\n",
    "        return jsonify({'error': 'Station non trouvée'})\n",
    "\n",
    "\n",
    "\n",
    "#http://127.0.0.1:5000/stations_velo?id=3    \n"
   ]
  },
  {
   "cell_type": "code",
   "execution_count": null,
   "metadata": {},
   "outputs": [],
   "source": [
    "if __name__ == '__main__':\n",
    "    app.run()"
   ]
  },
  {
   "attachments": {},
   "cell_type": "markdown",
   "metadata": {},
   "source": [
    "afficher ad"
   ]
  },
  {
   "cell_type": "code",
   "execution_count": 13,
   "metadata": {},
   "outputs": [
    {
     "name": "stdout",
     "output_type": "stream",
     "text": [
      " * Serving Flask app '__main__'\n",
      " * Debug mode: off\n"
     ]
    },
    {
     "name": "stderr",
     "output_type": "stream",
     "text": [
      "WARNING: This is a development server. Do not use it in a production deployment. Use a production WSGI server instead.\n",
      " * Running on http://127.0.0.1:5000\n",
      "Press CTRL+C to quit\n",
      "127.0.0.1 - - [30/May/2023 14:57:09] \"GET / HTTP/1.1\" 404 -\n",
      "127.0.0.1 - - [30/May/2023 14:57:13] \"GET /stations_velo?id=3&addr HTTP/1.1\" 200 -\n"
     ]
    }
   ],
   "source": [
    "\n",
    "\n",
    "from flask import Flask, jsonify, request\n",
    "import requests\n",
    "\n",
    "\n",
    "app = Flask(__name__)\n",
    "\n",
    "# Chargement des informations des stations de vélo en libre-service\n",
    "url = \"https://www.juleshaag.fr/devIA/devAPI/station_information.json\"\n",
    "response = requests.get(url)\n",
    "station_data = response.json()[\"data\"][\"stations\"]\n",
    "\n",
    "@app.route('/stations_velo')\n",
    "def get_station_info2():\n",
    "    station_id = request.args.get('id')\n",
    "    is_address_requested = 'addr' in request.args\n",
    "    station_info = next((station for station in station_data if station['station_id'] == station_id), None)\n",
    "    if station_info:\n",
    "        if is_address_requested:\n",
    "            return station_info['address']\n",
    "        else:\n",
    "            return jsonify(station_info)\n",
    "    else:\n",
    "        return jsonify({'error': 'Station non trouvée'})\n",
    "\n",
    "\n",
    "\n",
    "\n",
    "app.run()\n",
    "\n",
    "# http://127.0.0.1:5000/stations_velo?id=3&addr "
   ]
  },
  {
   "attachments": {},
   "cell_type": "markdown",
   "metadata": {},
   "source": [
    "afficher la capacité"
   ]
  },
  {
   "cell_type": "code",
   "execution_count": 14,
   "metadata": {},
   "outputs": [
    {
     "name": "stdout",
     "output_type": "stream",
     "text": [
      " * Serving Flask app '__main__'\n",
      " * Debug mode: off\n"
     ]
    },
    {
     "name": "stderr",
     "output_type": "stream",
     "text": [
      "WARNING: This is a development server. Do not use it in a production deployment. Use a production WSGI server instead.\n",
      " * Running on http://127.0.0.1:5000\n",
      "Press CTRL+C to quit\n",
      "127.0.0.1 - - [30/May/2023 14:57:22] \"GET / HTTP/1.1\" 404 -\n",
      "127.0.0.1 - - [30/May/2023 14:57:28] \"GET /stations_velo?id=3&cap HTTP/1.1\" 200 -\n"
     ]
    }
   ],
   "source": [
    "from flask import Flask, jsonify\n",
    "import requests\n",
    "\n",
    "app = Flask(__name__)\n",
    "\n",
    "\n",
    "# Chargement des informations des stations de vélo en libre-service\n",
    "url = \"https://www.juleshaag.fr/devIA/devAPI/station_information.json\"\n",
    "response = requests.get(url)\n",
    "station_data = response.json()[\"data\"][\"stations\"]\n",
    "\n",
    "@app.route('/stations_velo')\n",
    "def get_station_cap():\n",
    "    station_id = request.args.get('id')\n",
    "    is_capacity_requested = 'cap' in request.args\n",
    "    station_info = next((station for station in station_data if station['station_id'] == station_id), None)\n",
    "    if station_info:\n",
    "        if is_capacity_requested:\n",
    "            return str(station_info['capacity'])\n",
    "        else:\n",
    "            return jsonify(station_info)\n",
    "    else:\n",
    "        return jsonify({'error': 'Station non trouvée'})\n",
    "\n",
    "\n",
    "app.run()\n",
    "# http://127.0.0.1:5000/stations_velo?id=3&cap"
   ]
  },
  {
   "attachments": {},
   "cell_type": "markdown",
   "metadata": {},
   "source": [
    "capacité totale de l’ensemble des stations"
   ]
  },
  {
   "cell_type": "code",
   "execution_count": 15,
   "metadata": {},
   "outputs": [
    {
     "name": "stdout",
     "output_type": "stream",
     "text": [
      " * Serving Flask app '__main__'\n",
      " * Debug mode: off\n"
     ]
    },
    {
     "name": "stderr",
     "output_type": "stream",
     "text": [
      "WARNING: This is a development server. Do not use it in a production deployment. Use a production WSGI server instead.\n",
      " * Running on http://127.0.0.1:5000\n",
      "Press CTRL+C to quit\n",
      "127.0.0.1 - - [30/May/2023 14:58:30] \"GET /stations_velo?id=toutes&cap HTTP/1.1\" 200 -\n"
     ]
    }
   ],
   "source": [
    "from flask import Flask, jsonify\n",
    "import requests\n",
    "\n",
    "app = Flask(__name__)\n",
    "\n",
    "# Chargement des informations des stations de vélo en libre-service\n",
    "url = \"https://www.juleshaag.fr/devIA/devAPI/station_information.json\"\n",
    "response = requests.get(url)\n",
    "station_data = response.json()[\"data\"][\"stations\"]\n",
    "\n",
    "@app.route('/stations_velo')\n",
    "def get_station_info():\n",
    "    station_id = request.args.get('id')\n",
    "    is_capacity_requested = 'cap' in request.args\n",
    "    if station_id == 'toutes' and is_capacity_requested:\n",
    "        total_capacity = sum(station['capacity'] for station in station_data)\n",
    "        return 'la capacité total de toutes les station est de: ' + str(total_capacity)\n",
    " \n",
    "\n",
    "app.run()\n",
    "# http://127.0.0.1:5000/stations_velo?id=toutes&cap"
   ]
  },
  {
   "attachments": {},
   "cell_type": "markdown",
   "metadata": {},
   "source": [
    "c’est un endpoint qui est une variante du précédent qui retourne l’adresse de la station de vélo n, sous forme d’un texte"
   ]
  },
  {
   "cell_type": "code",
   "execution_count": 16,
   "metadata": {},
   "outputs": [
    {
     "name": "stdout",
     "output_type": "stream",
     "text": [
      " * Serving Flask app '__main__'\n",
      " * Debug mode: off\n"
     ]
    },
    {
     "name": "stderr",
     "output_type": "stream",
     "text": [
      "WARNING: This is a development server. Do not use it in a production deployment. Use a production WSGI server instead.\n",
      " * Running on http://127.0.0.1:5000\n",
      "Press CTRL+C to quit\n",
      "127.0.0.1 - - [30/May/2023 14:59:25] \"GET / HTTP/1.1\" 404 -\n",
      "127.0.0.1 - - [30/May/2023 14:59:27] \"GET /stations_velo/n/addr HTTP/1.1\" 200 -\n",
      "127.0.0.1 - - [30/May/2023 14:59:31] \"GET /stations_velo/2/addr HTTP/1.1\" 200 -\n"
     ]
    }
   ],
   "source": [
    "app = Flask(__name__)\n",
    "# Chargement des informations des stations de vélo en libre-service\n",
    "url = \"https://www.juleshaag.fr/devIA/devAPI/station_information.json\"\n",
    "response = requests.get(url)\n",
    "station_data = response.json()[\"data\"][\"stations\"]\n",
    "\n",
    "@app.route('/stations_velo/<n>/addr')\n",
    "def get_station_address(n):\n",
    "    station_info = next((station for station in station_data if station['station_id'] == n), None)\n",
    "    \n",
    "    if station_info:\n",
    "        return station_info['address']\n",
    "    else:\n",
    "        return jsonify({'error': 'Station non trouvée'})\n",
    "\n",
    "\n",
    "app.run()\n",
    "# http://127.0.0.1:5000/stations_velo/n/addr"
   ]
  },
  {
   "attachments": {},
   "cell_type": "markdown",
   "metadata": {},
   "source": [
    "la capacité de la station de vélo n, sous forme d’un nombre entier"
   ]
  },
  {
   "cell_type": "code",
   "execution_count": 17,
   "metadata": {},
   "outputs": [
    {
     "name": "stdout",
     "output_type": "stream",
     "text": [
      " * Serving Flask app '__main__'\n",
      " * Debug mode: off\n"
     ]
    },
    {
     "name": "stderr",
     "output_type": "stream",
     "text": [
      "WARNING: This is a development server. Do not use it in a production deployment. Use a production WSGI server instead.\n",
      " * Running on http://127.0.0.1:5000\n",
      "Press CTRL+C to quit\n",
      "127.0.0.1 - - [30/May/2023 15:00:19] \"GET / HTTP/1.1\" 404 -\n",
      "127.0.0.1 - - [30/May/2023 15:00:24] \"GET /stations_velo/n/cap HTTP/1.1\" 404 -\n",
      "127.0.0.1 - - [30/May/2023 15:00:29] \"GET /stations_velo/3/cap HTTP/1.1\" 200 -\n"
     ]
    }
   ],
   "source": [
    "from flask import Flask, jsonify, request\n",
    "import requests\n",
    "\n",
    "app = Flask(__name__)\n",
    "url = \"https://www.juleshaag.fr/devIA/devAPI/station_information.json\"\n",
    "\n",
    "@app.route(\"/stations_velo/<int:n>/cap\", methods=[\"GET\"])\n",
    "def get_station_capacity(n):\n",
    "    response = requests.get(url)\n",
    "    station_data = response.json()[\"data\"][\"stations\"]\n",
    "    for station in station_data:\n",
    "        if int(station[\"station_id\"]) == n:\n",
    "            capacity = int(station[\"capacity\"])\n",
    "            return jsonify(capacity)\n",
    "    return jsonify({\"error\": \"Station not found\"}), 404\n",
    "\n",
    "\n",
    "app.run()\n",
    "# http://127.0.0.1:5000/stations_velo/n/cap"
   ]
  },
  {
   "attachments": {},
   "cell_type": "markdown",
   "metadata": {},
   "source": [
    "qui retourne un json contenant, par id, la capacité de chaque station ainsi que la capacité de l’ensemble des stations contenues dans le fichier"
   ]
  },
  {
   "cell_type": "code",
   "execution_count": 18,
   "metadata": {},
   "outputs": [
    {
     "name": "stdout",
     "output_type": "stream",
     "text": [
      " * Serving Flask app '__main__'\n",
      " * Debug mode: off\n"
     ]
    },
    {
     "name": "stderr",
     "output_type": "stream",
     "text": [
      "WARNING: This is a development server. Do not use it in a production deployment. Use a production WSGI server instead.\n",
      " * Running on http://127.0.0.1:5000\n",
      "Press CTRL+C to quit\n",
      "127.0.0.1 - - [30/May/2023 15:01:46] \"GET / HTTP/1.1\" 404 -\n",
      "127.0.0.1 - - [30/May/2023 15:01:50] \"GET /stations_velo/toutes/cap HTTP/1.1\" 200 -\n"
     ]
    }
   ],
   "source": [
    "from flask import Flask, jsonify\n",
    "import requests\n",
    "\n",
    "app = Flask(__name__)\n",
    "\n",
    "@app.route('/stations_velo/toutes/cap', methods=['GET'])\n",
    "def get_stations_capacities():\n",
    "    url = \"https://www.juleshaag.fr/devIA/devAPI/station_information.json\"\n",
    "    response = requests.get(url)\n",
    "    station_data = response.json()[\"data\"][\"stations\"]\n",
    "    \n",
    "    total_capacity = 0\n",
    "    capacities_by_station_id = {}\n",
    "    for station in station_data:\n",
    "        station_id = station[\"station_id\"].strip()\n",
    "        capacity = station[\"capacity\"]\n",
    "        capacities_by_station_id[station_id] = capacity\n",
    "        total_capacity += capacity\n",
    "    \n",
    "    return jsonify({\n",
    "        \"capacities_by_station_id\": capacities_by_station_id,\n",
    "        \"total_capacity\": total_capacity\n",
    "    })\n",
    "\n",
    "\n",
    "app.run()\n",
    "# http://127.0.0.1:5000/stations_velo/toutes/cap"
   ]
  }
 ],
 "metadata": {
  "kernelspec": {
   "display_name": "base",
   "language": "python",
   "name": "python3"
  },
  "language_info": {
   "codemirror_mode": {
    "name": "ipython",
    "version": 3
   },
   "file_extension": ".py",
   "mimetype": "text/x-python",
   "name": "python",
   "nbconvert_exporter": "python",
   "pygments_lexer": "ipython3",
   "version": "3.11.3"
  },
  "orig_nbformat": 4
 },
 "nbformat": 4,
 "nbformat_minor": 2
}
