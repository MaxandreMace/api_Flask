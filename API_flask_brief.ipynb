{
 "cells": [
  {
   "cell_type": "code",
   "execution_count": 1,
   "metadata": {},
   "outputs": [],
   "source": [
    "from flask import Flask,jsonify,request\n",
    "import random\n",
    "import json\n"
   ]
  },
  {
   "cell_type": "code",
   "execution_count": null,
   "metadata": {},
   "outputs": [],
   "source": [
    "app = Flask(__name__)\n",
    "@app.route(\"/\")\n",
    "def hello_world():\n",
    "    return \"Hello, World!\"\n",
    "app.run()"
   ]
  },
  {
   "cell_type": "code",
   "execution_count": 9,
   "metadata": {},
   "outputs": [],
   "source": [
    "# retourne une valeur entière aleatoire comprise entre 0 et 100\n",
    "app= Flask(__name__)\n",
    "@app.route(\"/val\",methods = ['POST','GET'])\n",
    "def val():\n",
    "    random_val = random.randint(1,100)\n",
    "    return \"le chiffre est : \" + str(random_val)\n",
    "app.run()"
   ]
  },
  {
   "cell_type": "code",
   "execution_count": null,
   "metadata": {},
   "outputs": [],
   "source": [
    "# code json contenant un tableau de n valeurs entières aléatoires comprises en -1000 et +1000\n",
    "@app.route(\"/\")\n",
    "def val_nb () :\n",
    "    n =5\n",
    "    tableau = [random.randint(-1000,1000)for i in range(n)]\n",
    "    data ={\"tableau\" : tableau}\n",
    "    json_data = json.dumps(data)\n",
    "    return jsonify(json_data)\n",
    "\n",
    "app.run() "
   ]
  },
  {
   "cell_type": "code",
   "execution_count": null,
   "metadata": {},
   "outputs": [],
   "source": [
    "app = Flask(__name__)\n",
    "\n",
    "@app.route('/calc/add')\n",
    "def addition():\n",
    "    n1 = request.args.get('n1', type=int)\n",
    "    n2 = request.args.get('n2', type=int)\n",
    "    # if n1 is None or n2 is None:\n",
    "    #     return \"Les paramètres 'n1' et 'n2' sont requis.\"\n",
    "    resultat = n1 + n2\n",
    "    return f\"Le résultat de l'addition de {n1} et {n2} est : {resultat}\"\n",
    "\n",
    "if __name__ == '__main__':\n",
    "    app.run()\n",
    "    \n",
    "#http://127.0.0.1:5000/calc/add?n1=22&n2=15    "
   ]
  },
  {
   "cell_type": "code",
   "execution_count": 4,
   "metadata": {},
   "outputs": [
    {
     "name": "stdout",
     "output_type": "stream",
     "text": [
      " * Serving Flask app '__main__'\n",
      " * Debug mode: off\n"
     ]
    },
    {
     "name": "stderr",
     "output_type": "stream",
     "text": [
      "WARNING: This is a development server. Do not use it in a production deployment. Use a production WSGI server instead.\n",
      " * Running on http://127.0.0.1:5000\n",
      "Press CTRL+C to quit\n",
      "127.0.0.1 - - [25/Apr/2023 17:02:26] \"GET / HTTP/1.1\" 404 -\n",
      "127.0.0.1 - - [25/Apr/2023 17:02:35] \"GET /calc/prod?n1=4&n2=5 HTTP/1.1\" 200 -\n"
     ]
    }
   ],
   "source": [
    "app = Flask(__name__)\n",
    "\n",
    "@app.route('/calc/prod')\n",
    "def multiplication():\n",
    "    n1 = request.args.get('n1', type=int)\n",
    "    n2 = request.args.get('n2', type=int)\n",
    "    # if n1 is None or n2 is None:\n",
    "    #     return \"Les paramètres 'n1' et 'n2' sont requis.\"\n",
    "    resultat = n1*n2\n",
    "    return f\" {n1} x {n2} = {resultat}\"\n",
    "\n",
    "if __name__ == '__main__':\n",
    "    app.run()\n",
    "#http://127.0.0.1:5000/calc/prod?n1=4&n2=5    "
   ]
  },
  {
   "cell_type": "code",
   "execution_count": 1,
   "metadata": {},
   "outputs": [
    {
     "name": "stdout",
     "output_type": "stream",
     "text": [
      " * Serving Flask app '__main__'\n",
      " * Debug mode: off\n"
     ]
    },
    {
     "name": "stderr",
     "output_type": "stream",
     "text": [
      "WARNING: This is a development server. Do not use it in a production deployment. Use a production WSGI server instead.\n",
      " * Running on http://127.0.0.1:5000\n",
      "Press CTRL+C to quit\n",
      "127.0.0.1 - - [25/Apr/2023 17:27:41] \"GET / HTTP/1.1\" 404 -\n",
      "127.0.0.1 - - [25/Apr/2023 17:27:41] \"GET /favicon.ico HTTP/1.1\" 404 -\n",
      "127.0.0.1 - - [25/Apr/2023 17:28:03] \"GET /img?num=3 HTTP/1.1\" 200 -\n"
     ]
    }
   ],
   "source": [
    "from flask import Flask, request\n",
    "\n",
    "app = Flask(__name__)\n",
    "\n",
    "@app.route('/img')\n",
    "def img():\n",
    "    n = request.args.get('num', type=int)\n",
    "    source = f\"https://www.juleshaag.fr/devIA/devAPI/{n}.png\"\n",
    "    return source\n",
    "\n",
    "if __name__ == '__main__':\n",
    "    app.run()\n"
   ]
  }
 ],
 "metadata": {
  "kernelspec": {
   "display_name": "base",
   "language": "python",
   "name": "python3"
  },
  "language_info": {
   "codemirror_mode": {
    "name": "ipython",
    "version": 3
   },
   "file_extension": ".py",
   "mimetype": "text/x-python",
   "name": "python",
   "nbconvert_exporter": "python",
   "pygments_lexer": "ipython3",
   "version": "3.11.3"
  },
  "orig_nbformat": 4
 },
 "nbformat": 4,
 "nbformat_minor": 2
}
